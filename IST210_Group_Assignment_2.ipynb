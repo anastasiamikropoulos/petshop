{
  "nbformat": 4,
  "nbformat_minor": 0,
  "metadata": {
    "colab": {
      "name": "IST210 Group Assignment 2",
      "provenance": [],
      "collapsed_sections": [],
      "include_colab_link": true
    },
    "kernelspec": {
      "name": "python3",
      "display_name": "Python 3"
    }
  },
  "cells": [
    {
      "cell_type": "markdown",
      "metadata": {
        "id": "view-in-github",
        "colab_type": "text"
      },
      "source": [
        "<a href=\"https://colab.research.google.com/github/anastasiamikropoulos/petshop/blob/master/IST210_Group_Assignment_2.ipynb\" target=\"_parent\"><img src=\"https://colab.research.google.com/assets/colab-badge.svg\" alt=\"Open In Colab\"/></a>"
      ]
    },
    {
      "cell_type": "markdown",
      "metadata": {
        "id": "6XZUTP-YvfRn",
        "colab_type": "text"
      },
      "source": [
        "# **Group Assignment 2: Entity Relationship Diagram**\n",
        "\n",
        "\n",
        "&nbsp;&nbsp;&nbsp;&nbsp;&nbsp;&nbsp;Our entity relationship diagram is modeled after a pet adoption center with multiple adoption facilities and a website that customers can use to create an account, view different inventories, and adopt animals online. One of the first obvious connections that we decided to include in our diagram was between animals and adoption centers. In our scenario, each adoption center can house up to 80 animals. Additionally, we would have 10 adoption centers running; therefore, any given animal type will appear in at least 1 adoption center and could be included in all 10.\n",
        "\n",
        "&nbsp;&nbsp;&nbsp;&nbsp;&nbsp;&nbsp;Another connection in our diagram is between the adoption center and employees. Adoption centers have at least 1 employee at all times and can have up to 25. On the other hand, employees can only be employed at 1 adoption center at a time. An employee might not work at any of the adoption centers on a day to day basis if he/she is working as a web developer on our website or as an animal rescuer. \n",
        "\n",
        "&nbsp;&nbsp;&nbsp;&nbsp;&nbsp;&nbsp;Since our website is a big focus of this business, it makes sense that it would have the most connections to our other tables. Animals are tracked on the website, from 0 (no animals) to 800 (maximum capacity). If an animal is in our adoption centers then it’s tracked by our website, hence the 1 to 1 connections between the two tables.\n",
        "\n",
        "&nbsp;&nbsp;&nbsp;&nbsp;&nbsp;&nbsp;Finally, the website is also important to manage accounts from both customers and employees. Customers can either have 1 account or 0 accounts, so the website can either have 0 customer accounts in its database or many accounts in its database, depending on how many customers create accounts. Since there isn’t a limit as to how many customers can create accounts on the website, we’ve marked the cardinality as (0,M). On the other hand, employees must have an account (since it’s tied to their employee IDs) and there are a finite number of employees at the company, up to 400. There can never be 0 employees, so the cardinality here is (1,400).\n"
      ]
    },
    {
      "cell_type": "markdown",
      "metadata": {
        "id": "399Erz6Xv9eG",
        "colab_type": "text"
      },
      "source": [
        "![alt text](https://github.com/mtu5017/IST210/blob/master/Group%20Assignment%202.png?raw=true)"
      ]
    }
  ]
}