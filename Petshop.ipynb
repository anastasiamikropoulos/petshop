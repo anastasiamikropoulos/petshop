{
  "nbformat": 4,
  "nbformat_minor": 0,
  "metadata": {
    "colab": {
      "name": "Petshop.ipynb",
      "provenance": []
    },
    "kernelspec": {
      "name": "python3",
      "display_name": "Python 3"
    }
  },
  "cells": [
    {
      "cell_type": "code",
      "metadata": {
        "id": "CMbdUtGO8lzN",
        "colab_type": "code",
        "colab": {}
      },
      "source": [
        ""
      ],
      "execution_count": 0,
      "outputs": []
    },
    {
      "cell_type": "markdown",
      "metadata": {
        "id": "07II9x2H97yP",
        "colab_type": "text"
      },
      "source": [
        "# **Petshop Entity Relationship Diagram**\n",
        "\n",
        "\n",
        "Our Entity Relationship Diagram for the Pet Store was designed in a way that we believed was most efficient and clear.  Our diagram revolves around the “Pet Store Log” that is placed in the center, this allows for the relationship arrows to stem out without overcrowding one another. There are two separate entity relation tables for Fish and Animals respectively, as well as separated Expenses and Profits. \n",
        "\n",
        "The fish table keeps track of the fish in each tank, the price for each fish, and miscellaneous information about the fish such as ID, weight and the number of total days in the tank. The Animal table logs the animal ID as well as species, enclosure, and height/weight. Both of these relation tables feed into the “Expenses” table. This is because the store is required to purchase and keep up with both the animals and their habitats. \n",
        "\n",
        "The top section of the diagram contains the business expenses. This includes the cost of both the aquarium and animal enclosure expenses. The Expenses table is also able to keep track of the cost of food purchased by the store. The Expenses table has a relationship with the total Pet Store Log as the expenses are subtracted from the total profits. \n",
        "\n",
        "The final section involves the loyalty ID card applied to the customers’ purchases. In our store specifically the loyalty ID card allows first-time customers to automatically retrieve a ten percent discount on their first purchase. The Profits table keeps track of all sold items and the profit from each purchase. \n"
      ]
    },
    {
      "cell_type": "markdown",
      "metadata": {
        "id": "X4m-XEyK8mOW",
        "colab_type": "text"
      },
      "source": [
        "![alt text](https://github.com/anastasiamikropoulos/petshop/blob/master/IST%20210%20Lab%202%20.png?raw=true)"
      ]
    }
  ]
}